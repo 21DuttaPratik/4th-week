{
  "nbformat": 4,
  "nbformat_minor": 0,
  "metadata": {
    "colab": {
      "provenance": []
    },
    "kernelspec": {
      "name": "python3",
      "display_name": "Python 3"
    },
    "language_info": {
      "name": "python"
    }
  },
  "cells": [
    {
      "cell_type": "code",
      "execution_count": 1,
      "metadata": {
        "id": "pccOp-Xy4sG8"
      },
      "outputs": [],
      "source": [
        "# In object-oriented programming (OOP), abstraction is a fundamental concept that\n",
        "#  involves hiding the complex implementation details of a system and only exposing the\n",
        "#  necessary features or interfaces to the outside world. It allows programmers to focus on what an object does\n",
        "#  rather than how it does it. Abstraction helps in managing complexity by breaking down a system\n",
        "# into smaller, more manageable parts."
      ]
    },
    {
      "cell_type": "code",
      "source": [
        "class Shape:\n",
        "    def area(self):\n",
        "        pass\n",
        "\n",
        "    def perimeter(self):\n",
        "        pass\n",
        "\n",
        "class Rectangle(Shape):\n",
        "    def __init__(self, length, width):\n",
        "        self.length = length\n",
        "        self.width = width\n",
        "\n",
        "    def area(self):\n",
        "        return self.length * self.width\n",
        "\n",
        "    def perimeter(self):\n",
        "        return 2 * (self.length + self.width)\n",
        "\n",
        "class Circle(Shape):\n",
        "    def __init__(self, radius):\n",
        "        self.radius = radius\n",
        "\n",
        "    def area(self):\n",
        "        import math\n",
        "        return math.pi * self.radius ** 2\n",
        "\n",
        "    def perimeter(self):\n",
        "        import math\n",
        "        return 2 * math.pi * self.radius\n",
        "\n",
        "# Usage\n",
        "rectangle = Rectangle(5, 4)\n",
        "print(\"Area of Rectangle:\", rectangle.area())  # Output: 20\n",
        "print(\"Perimeter of Rectangle:\", rectangle.perimeter())  # Output: 18\n",
        "\n",
        "circle = Circle(3)\n",
        "print(\"Area of Circle:\", circle.area())  # Output: 28.274333882308138\n",
        "print(\"Perimeter of Circle:\", circle.perimeter())  # Output: 18.84955592153876\n"
      ],
      "metadata": {
        "colab": {
          "base_uri": "https://localhost:8080/"
        },
        "id": "SDDPi2Z849he",
        "outputId": "a12a82dd-cd0b-4500-81ba-ecbae37f6179"
      },
      "execution_count": 2,
      "outputs": [
        {
          "output_type": "stream",
          "name": "stdout",
          "text": [
            "Area of Rectangle: 20\n",
            "Perimeter of Rectangle: 18\n",
            "Area of Circle: 28.274333882308138\n",
            "Perimeter of Circle: 18.84955592153876\n"
          ]
        }
      ]
    },
    {
      "cell_type": "code",
      "source": [
        "# Abstraction and encapsulation are two key concepts in object-oriented programming (OOP) that are often confused, but they serve different purposes.\n",
        "\n",
        "# Abstraction:\n",
        "\n",
        "# Abstraction involves hiding the complex implementation details of a system and only exposing the necessary features or interfaces to the outside world.\n",
        "# It allows programmers to focus on what an object does rather than how it does it.\n",
        "# Abstraction is achieved through abstract classes, interfaces, and methods, which define a blueprint for objects without providing a complete implementation.\n",
        "# Encapsulation:\n",
        "\n",
        "# Encapsulation is the bundling of data (attributes) and methods (functions) that operate on the data into a single unit, known as a class.\n",
        "# It hides the internal state of an object from the outside world and only exposes the necessary functionalities through well-defined interfaces.\n",
        "# Encapsulation helps in preventing the direct access to the internal state of an object, thus ensuring data integrity and security.\n",
        "\n",
        "# Abstraction Example\n",
        "class Shape:\n",
        "    def area(self):\n",
        "        pass\n",
        "\n",
        "    def perimeter(self):\n",
        "        pass\n",
        "\n",
        "class Rectangle(Shape):\n",
        "    def __init__(self, length, width):\n",
        "        self.length = length\n",
        "        self.width = width\n",
        "\n",
        "    def area(self):\n",
        "        return self.length * self.width\n",
        "\n",
        "    def perimeter(self):\n",
        "        return 2 * (self.length + self.width)\n",
        "\n",
        "# Encapsulation Example\n",
        "class Employee:\n",
        "    def __init__(self, name, salary):\n",
        "        self._name = name  # Encapsulated attribute\n",
        "        self._salary = salary  # Encapsulated attribute\n",
        "\n",
        "    def get_name(self):\n",
        "        return self._name\n",
        "\n",
        "    def get_salary(self):\n",
        "        return self._salary\n",
        "\n",
        "    def set_salary(self, salary):\n",
        "        if salary >= 0:\n",
        "            self._salary = salary\n",
        "        else:\n",
        "            print(\"Salary cannot be negative.\")\n",
        "\n",
        "# Usage of Abstraction\n",
        "rectangle = Rectangle(5, 4)\n",
        "print(\"Area of Rectangle:\", rectangle.area())  # Output: 20\n",
        "print(\"Perimeter of Rectangle:\", rectangle.perimeter())  # Output: 18\n",
        "\n",
        "# Usage of Encapsulation\n",
        "employee = Employee(\"Alice\", 50000)\n",
        "print(\"Employee Name:\", employee.get_name())  # Output: Alice\n",
        "print(\"Employee Salary:\", employee.get_salary())  # Output: 50000\n",
        "employee.set_salary(60000)\n",
        "print(\"Updated Employee Salary:\", employee.get_salary())  # Output: 60000\n"
      ],
      "metadata": {
        "colab": {
          "base_uri": "https://localhost:8080/"
        },
        "id": "VCs__NlJ5Apc",
        "outputId": "7f05d961-d616-41d9-f42d-ea5f833c9d8d"
      },
      "execution_count": 3,
      "outputs": [
        {
          "output_type": "stream",
          "name": "stdout",
          "text": [
            "Area of Rectangle: 20\n",
            "Perimeter of Rectangle: 18\n",
            "Employee Name: Alice\n",
            "Employee Salary: 50000\n",
            "Updated Employee Salary: 60000\n"
          ]
        }
      ]
    },
    {
      "cell_type": "code",
      "source": [
        "# The abc module in Python stands for \"Abstract Base Classes.\" It provides a way to define\n",
        "# abstract base classes in Python. Abstract base classes are classes that are meant to be subclassed but not\n",
        "#  instantiated directly. They serve as templates for\n",
        "# concrete subclasses, defining common methods and interfaces that the subclasses must implement.\n",
        "\n",
        "# The primary use of the abc module is to enforce a specific interface for subclasses, ensuring that\n",
        "# they provide implementations for certain methods. This helps in ensuring consistency and maintainability in\n",
        "# large codebases by defining a clear contract between classes.\n",
        "\n",
        "# The abc module provides the ABC class, which is used as a base class for defining abstract base classes.\n",
        "# It also provides decorators like @abstractmethod to mark methods as abstract, meaning that they must be implemented by concrete subclasses.\n",
        "\n",
        "from abc import ABC, abstractmethod\n",
        "\n",
        "class Shape(ABC):  # Abstract base class\n",
        "    @abstractmethod\n",
        "    def area(self):\n",
        "        pass\n",
        "\n",
        "    @abstractmethod\n",
        "    def perimeter(self):\n",
        "        pass\n",
        "\n",
        "class Rectangle(Shape):  # Concrete subclass\n",
        "    def __init__(self, length, width):\n",
        "        self.length = length\n",
        "        self.width = width\n",
        "\n",
        "    def area(self):\n",
        "        return self.length * self.width\n",
        "\n",
        "    def perimeter(self):\n",
        "        return 2 * (self.length + self.width)\n",
        "\n",
        "class Circle(Shape):  # Concrete subclass\n",
        "    def __init__(self, radius):\n",
        "        self.radius = radius\n",
        "\n",
        "    def area(self):\n",
        "        import math\n",
        "        return math.pi * self.radius ** 2\n",
        "\n",
        "    def perimeter(self):\n",
        "        import math\n",
        "        return 2 * math.pi * self.radius\n",
        "\n",
        "# Usage\n",
        "rectangle = Rectangle(5, 4)\n",
        "print(\"Area of Rectangle:\", rectangle.area())  # Output: 20\n",
        "print(\"Perimeter of Rectangle:\", rectangle.perimeter())  # Output: 18\n",
        "\n",
        "circle = Circle(3)\n",
        "print(\"Area of Circle:\", circle.area())  # Output: 28.274333882308138\n",
        "print(\"Perimeter of Circle:\", circle.perimeter())  # Output: 18.84955592153876\n"
      ],
      "metadata": {
        "colab": {
          "base_uri": "https://localhost:8080/"
        },
        "id": "E2KE3Al65TYE",
        "outputId": "e8367b54-41ad-4e71-9b9f-841981273653"
      },
      "execution_count": 4,
      "outputs": [
        {
          "output_type": "stream",
          "name": "stdout",
          "text": [
            "Area of Rectangle: 20\n",
            "Perimeter of Rectangle: 18\n",
            "Area of Circle: 28.274333882308138\n",
            "Perimeter of Circle: 18.84955592153876\n"
          ]
        }
      ]
    },
    {
      "cell_type": "code",
      "source": [
        "# No, you cannot create an instance of an abstract class directly in Python. Abstract classes, defined using\n",
        "# the abc module, are meant to be subclassed, and they typically contain one or more abstract methods that must be\n",
        "# implemented by their concrete subclasses.\n",
        "\n",
        "# Attempting to instantiate an abstract class directly will result in a TypeError. This is\n",
        "# because abstract classes are incomplete—they define methods that must be implemented by subclasses,\n",
        "# but they don't provide implementations themselves. Therefore, attempting to instantiate them would result in an\n",
        "#  object that is missing necessary functionality.\n",
        "\n",
        "from abc import ABC, abstractmethod\n",
        "\n",
        "class AbstractClass(ABC):\n",
        "    @abstractmethod\n",
        "    def abstract_method(self):\n",
        "        pass\n",
        "\n",
        "# Attempting to instantiate an abstract class\n",
        "instance = AbstractClass()  # This will raise a TypeError\n"
      ],
      "metadata": {
        "colab": {
          "base_uri": "https://localhost:8080/",
          "height": 176
        },
        "id": "snY7D1Rt5lwE",
        "outputId": "53e7eb93-abc9-42ce-9f68-99287be0ee6c"
      },
      "execution_count": 5,
      "outputs": [
        {
          "output_type": "error",
          "ename": "TypeError",
          "evalue": "Can't instantiate abstract class AbstractClass with abstract method abstract_method",
          "traceback": [
            "\u001b[0;31m---------------------------------------------------------------------------\u001b[0m",
            "\u001b[0;31mTypeError\u001b[0m                                 Traceback (most recent call last)",
            "\u001b[0;32m<ipython-input-5-0f04c0503196>\u001b[0m in \u001b[0;36m<cell line: 18>\u001b[0;34m()\u001b[0m\n\u001b[1;32m     16\u001b[0m \u001b[0;34m\u001b[0m\u001b[0m\n\u001b[1;32m     17\u001b[0m \u001b[0;31m# Attempting to instantiate an abstract class\u001b[0m\u001b[0;34m\u001b[0m\u001b[0;34m\u001b[0m\u001b[0m\n\u001b[0;32m---> 18\u001b[0;31m \u001b[0minstance\u001b[0m \u001b[0;34m=\u001b[0m \u001b[0mAbstractClass\u001b[0m\u001b[0;34m(\u001b[0m\u001b[0;34m)\u001b[0m  \u001b[0;31m# This will raise a TypeError\u001b[0m\u001b[0;34m\u001b[0m\u001b[0;34m\u001b[0m\u001b[0m\n\u001b[0m",
            "\u001b[0;31mTypeError\u001b[0m: Can't instantiate abstract class AbstractClass with abstract method abstract_method"
          ]
        }
      ]
    },
    {
      "cell_type": "code",
      "source": [],
      "metadata": {
        "id": "FiQwTdFx55rJ"
      },
      "execution_count": null,
      "outputs": []
    }
  ]
}