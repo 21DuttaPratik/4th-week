{
  "nbformat": 4,
  "nbformat_minor": 0,
  "metadata": {
    "colab": {
      "provenance": []
    },
    "kernelspec": {
      "name": "python3",
      "display_name": "Python 3"
    },
    "language_info": {
      "name": "python"
    }
  },
  "cells": [
    {
      "cell_type": "code",
      "execution_count": 2,
      "metadata": {
        "id": "9LAMr9v1puug"
      },
      "outputs": [],
      "source": [
        "# 1. **Class and Object:**\n",
        "#    - **Class:** In object-oriented programming (OOP), a class is a blueprint for creating objects (instances) that share common attributes and behaviors. It defines the structure and behavior of objects. It encapsulates data for the object and methods to operate on that data.\n",
        "#      Example: Consider a class `Car` which defines attributes like `make`, `model`, `color`, and methods like `start_engine()`, `stop_engine()`, etc. This class serves as a blueprint for creating individual car objects.\n",
        "\n",
        "#    - **Object:** An object is an instance of a class. It's a tangible entity that represents a real-world concept. Objects have state (attributes) and behavior (methods) defined by their class.\n",
        "#      Example: Using the `Car` class, you can create individual car objects like `my_car = Car(\"Toyota\", \"Corolla\", \"Red\")`. Here `my_car` is an object of the `Car` class.\n",
        "\n",
        "# 2. **Four Pillars of OOPs:**\n",
        "#    - **Encapsulation:** Encapsulation is the bundling of data (attributes) and methods (behaviors) that operate on the data into a single unit or class. It hides the internal state of objects and only exposes necessary functionalities.\n",
        "#    - **Abstraction:** Abstraction refers to the concept of hiding complex implementation details and showing only the essential features of an object. It allows focusing on what an object does rather than how it achieves it.\n",
        "#    - **Inheritance:** Inheritance is a mechanism by which a new class (subclass) can inherit properties and behavior (attributes and methods) from an existing class (superclass). It promotes code reusability and establishes a hierarchical relationship between classes.\n",
        "#    - **Polymorphism:** Polymorphism allows objects of different classes to be treated as objects of a common superclass. It enables a single interface to represent different data types or objects.\n",
        "\n",
        "# 3. **Purpose of the __init__() function:**\n",
        "#    - The `__init__()` function is a special method in Python classes used to initialize newly created objects. It is called automatically when a new instance of the class is created.\n",
        "#    - It's commonly used to initialize instance variables (attributes) of the class with initial values, allowing objects to be created with specific initial states.\n",
        "#      Example:\n",
        "#      ```python\n",
        "\n",
        "class Car:\n",
        "    def __init__(self, make, model, color):\n",
        "        self.make = make\n",
        "        self.model = model\n",
        "        self.color = color\n",
        "\n",
        "my_car = Car(\"Toyota\", \"Corolla\", \"Red\")\n",
        "\n"
      ]
    },
    {
      "cell_type": "code",
      "source": [
        "# 4. **Purpose of self in OOPs:**\n",
        "#    - In OOPs, `self` is a reference to the current instance of the class. It is used to access variables and methods within the class.\n",
        "#    - When a method is called on an object, Python automatically passes the object itself as the first argument (`self`) to the method.\n",
        "#    - It allows different instances of the class to have their own distinct attributes and state.\n",
        "#    - By using `self`, you can differentiate between instance variables and local variables within a class.\n",
        "\n",
        "# 5. **Inheritance:**\n",
        "#    - Inheritance is a fundamental concept in OOP where a new class (subclass) is created by inheriting attributes and methods from an existing class (superclass).\n",
        "#      - **Single Inheritance:** A subclass inherits from only one superclass.\n",
        "#        Example:\n",
        "class Animal:\n",
        "    def speak(self):\n",
        "        print(\"Animal speaks\")\n",
        "\n",
        "class Dog(Animal):\n",
        "    def bark(self):\n",
        "        print(\"Dog barks\")\n",
        "\n",
        "my_dog = Dog()\n",
        "my_dog.speak()  # Output: Animal speaks\n",
        "my_dog.bark()   # Output: Dog barks\n"
      ],
      "metadata": {
        "colab": {
          "base_uri": "https://localhost:8080/"
        },
        "id": "cAJZw8KVqHz2",
        "outputId": "7451cb4b-45e3-48d3-cd75-d103617bda8e"
      },
      "execution_count": 5,
      "outputs": [
        {
          "output_type": "stream",
          "name": "stdout",
          "text": [
            "Animal speaks\n",
            "Dog barks\n"
          ]
        }
      ]
    },
    {
      "cell_type": "code",
      "source": [
        "# Multiple Inheritance: A subclass inherits from multiple superclasses.\n",
        "# Multilevel Inheritance: A subclass inherits from another subclass, creating a hierarchy of classes.\n",
        "# Hierarchical Inheritance: Multiple subclasses inherit from a single superclass."
      ],
      "metadata": {
        "id": "cT-PUoznqjgt"
      },
      "execution_count": null,
      "outputs": []
    }
  ]
}