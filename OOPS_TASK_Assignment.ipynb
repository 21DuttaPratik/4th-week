{
  "nbformat": 4,
  "nbformat_minor": 0,
  "metadata": {
    "colab": {
      "provenance": []
    },
    "kernelspec": {
      "name": "python3",
      "display_name": "Python 3"
    },
    "language_info": {
      "name": "python"
    }
  },
  "cells": [
    {
      "cell_type": "code",
      "execution_count": 1,
      "metadata": {
        "id": "8AIFBXhy5M2-"
      },
      "outputs": [],
      "source": [
        "# Q1.\n",
        "\n",
        "\n",
        "class vehicle:\n",
        "  def __init__(self,name_of_vehicle,max_speed,avg_of_vehicle):\n",
        "    self.name_of_vehicle=name_of_vehicle\n",
        "    self.max_speed=max_speed\n",
        "    self.avg_of_vehicle=avg_of_vehicle"
      ]
    },
    {
      "cell_type": "code",
      "source": [
        "obj1=vehicle(\"Cycle\",30,20)"
      ],
      "metadata": {
        "id": "q6IdV22G6-Zd"
      },
      "execution_count": 2,
      "outputs": []
    },
    {
      "cell_type": "code",
      "source": [
        "# Q2\n",
        "class car(vehicle):\n",
        "  def seating_capacity(self,sc):\n",
        "    return self.name_of_vehicle,self.sc"
      ],
      "metadata": {
        "id": "gfj6jyxc7MvK"
      },
      "execution_count": 3,
      "outputs": []
    },
    {
      "cell_type": "code",
      "source": [
        "# Q3. Multiple inheritance ocuurs when a class inherits properties of two or more different classes. Those classes may or may not have\n",
        "# any relationship between them.\n",
        "class A:\n",
        "  def classA_method(self):\n",
        "    return \"Class A\"\n",
        "class B:\n",
        "  def classB_method(self):\n",
        "    return \"Class B\"\n",
        "class C(A,B):\n",
        "  def classC_method(self):\n",
        "    return \"Class C\""
      ],
      "metadata": {
        "id": "xOfmw3ov70WW"
      },
      "execution_count": 4,
      "outputs": []
    },
    {
      "cell_type": "code",
      "source": [
        "obj=C()"
      ],
      "metadata": {
        "id": "JA2AWhsk83VL"
      },
      "execution_count": 5,
      "outputs": []
    },
    {
      "cell_type": "code",
      "source": [
        "obj.classB_method()\n"
      ],
      "metadata": {
        "colab": {
          "base_uri": "https://localhost:8080/",
          "height": 35
        },
        "id": "RDhCCnwZ866R",
        "outputId": "f0de5e3e-dabb-47ef-a356-c9a06b02dd44"
      },
      "execution_count": 7,
      "outputs": [
        {
          "output_type": "execute_result",
          "data": {
            "text/plain": [
              "'Class B'"
            ],
            "application/vnd.google.colaboratory.intrinsic+json": {
              "type": "string"
            }
          },
          "metadata": {},
          "execution_count": 7
        }
      ]
    },
    {
      "cell_type": "code",
      "source": [
        "obj.classA_method()"
      ],
      "metadata": {
        "colab": {
          "base_uri": "https://localhost:8080/",
          "height": 35
        },
        "id": "nAsCFR-D9B1E",
        "outputId": "80184dc1-0aa5-4335-c8be-2b9211470c00"
      },
      "execution_count": 8,
      "outputs": [
        {
          "output_type": "execute_result",
          "data": {
            "text/plain": [
              "'Class A'"
            ],
            "application/vnd.google.colaboratory.intrinsic+json": {
              "type": "string"
            }
          },
          "metadata": {},
          "execution_count": 8
        }
      ]
    },
    {
      "cell_type": "code",
      "source": [
        "obj.classC_method()"
      ],
      "metadata": {
        "colab": {
          "base_uri": "https://localhost:8080/",
          "height": 35
        },
        "id": "iYu0HHGj9Mi7",
        "outputId": "5cadcd9f-2cc9-49cf-9d21-29e4284a6dd4"
      },
      "execution_count": 9,
      "outputs": [
        {
          "output_type": "execute_result",
          "data": {
            "text/plain": [
              "'Class C'"
            ],
            "application/vnd.google.colaboratory.intrinsic+json": {
              "type": "string"
            }
          },
          "metadata": {},
          "execution_count": 9
        }
      ]
    },
    {
      "cell_type": "code",
      "source": [
        "\"\"\"Q4.   Getter and setter functions are used to retrieve of modify the value of a variable that is encapsulated within a class\"\"\"\n",
        "class product:\n",
        "  def setter(self,amount):\n",
        "    self.__amount=amount\n",
        "  def getter(self):\n",
        "    return self.__amount"
      ],
      "metadata": {
        "id": "E4aUCZdN9QU6"
      },
      "execution_count": 10,
      "outputs": []
    },
    {
      "cell_type": "code",
      "source": [
        "obj3=product()"
      ],
      "metadata": {
        "id": "uMgPIoAu-ko9"
      },
      "execution_count": 11,
      "outputs": []
    },
    {
      "cell_type": "code",
      "source": [
        "obj3.setter(5000)"
      ],
      "metadata": {
        "id": "gkL56rTB-oAZ"
      },
      "execution_count": 12,
      "outputs": []
    },
    {
      "cell_type": "code",
      "source": [
        "obj3.getter()"
      ],
      "metadata": {
        "colab": {
          "base_uri": "https://localhost:8080/"
        },
        "id": "wwXjKnBG-rf8",
        "outputId": "cb05cc55-550b-4eb5-daaa-6c26f104ca45"
      },
      "execution_count": 13,
      "outputs": [
        {
          "output_type": "execute_result",
          "data": {
            "text/plain": [
              "5000"
            ]
          },
          "metadata": {},
          "execution_count": 13
        }
      ]
    },
    {
      "cell_type": "code",
      "source": [
        "# suppose there is a method of the same name in both subclass and superclass. But when we call it for a particular object, the method of the respective\n",
        "# class will execute\n",
        "class dog:\n",
        "  def sound(self):\n",
        "    return \"bark\"\n",
        "class human(dog):\n",
        "  def sound(self):\n",
        "    return \"abcd\""
      ],
      "metadata": {
        "id": "5lYee74s-wEo"
      },
      "execution_count": 14,
      "outputs": []
    },
    {
      "cell_type": "code",
      "source": [
        "tommy=dog()"
      ],
      "metadata": {
        "id": "LSlE926a_8oy"
      },
      "execution_count": 15,
      "outputs": []
    },
    {
      "cell_type": "code",
      "source": [
        "pratik=human()"
      ],
      "metadata": {
        "id": "OfqrLmPWAAqG"
      },
      "execution_count": 16,
      "outputs": []
    },
    {
      "cell_type": "code",
      "source": [
        "pratik.sound()"
      ],
      "metadata": {
        "colab": {
          "base_uri": "https://localhost:8080/",
          "height": 35
        },
        "id": "WaH5BDiAAEOC",
        "outputId": "068304cc-a379-4f3a-f348-601e841f39cb"
      },
      "execution_count": 17,
      "outputs": [
        {
          "output_type": "execute_result",
          "data": {
            "text/plain": [
              "'abcd'"
            ],
            "application/vnd.google.colaboratory.intrinsic+json": {
              "type": "string"
            }
          },
          "metadata": {},
          "execution_count": 17
        }
      ]
    },
    {
      "cell_type": "code",
      "source": [
        "tommy.sound()"
      ],
      "metadata": {
        "colab": {
          "base_uri": "https://localhost:8080/",
          "height": 35
        },
        "id": "TQ9a1b-zAIoN",
        "outputId": "a697bf0c-8d8b-4495-c7c0-16af9109f8df"
      },
      "execution_count": 18,
      "outputs": [
        {
          "output_type": "execute_result",
          "data": {
            "text/plain": [
              "'bark'"
            ],
            "application/vnd.google.colaboratory.intrinsic+json": {
              "type": "string"
            }
          },
          "metadata": {},
          "execution_count": 18
        }
      ]
    },
    {
      "cell_type": "code",
      "source": [],
      "metadata": {
        "id": "ZIyn4ta-AMf3"
      },
      "execution_count": null,
      "outputs": []
    }
  ]
}